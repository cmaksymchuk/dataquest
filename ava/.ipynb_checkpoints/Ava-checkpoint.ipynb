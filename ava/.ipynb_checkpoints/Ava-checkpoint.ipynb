{
 "cells": [
  {
   "cell_type": "code",
   "execution_count": 3,
   "id": "d4454599",
   "metadata": {},
   "outputs": [
    {
     "name": "stdout",
     "output_type": "stream",
     "text": [
      "ava is the coolest\n"
     ]
    }
   ],
   "source": [
    "print('ava is the coolest')"
   ]
  },
  {
   "cell_type": "code",
   "execution_count": 9,
   "id": "736ce878",
   "metadata": {},
   "outputs": [
    {
     "name": "stdout",
     "output_type": "stream",
     "text": [
      " ava is so exra cool that she knows how to computer program now.\n",
      " ava is so exra cool that she knows how to computer program now.\n",
      " ava is so exra cool that she knows how to computer program now.\n",
      " ava is so exra cool that she knows how to computer program now.\n",
      " ava is so exra cool that she knows how to computer program now.\n",
      " ava is so exra cool that she knows how to computer program now.\n",
      " ava is so exra cool that she knows how to computer program now.\n",
      " ava is so exra cool that she knows how to computer program now.\n",
      " ava is so exra cool that she knows how to computer program now.\n",
      " ava is so exra cool that she knows how to computer program now.\n"
     ]
    }
   ],
   "source": [
    "\n",
    "for x in range(10):\n",
    "  print(\" ava is so exra cool that she knows how to computer program now.\")"
   ]
  },
  {
   "cell_type": "code",
   "execution_count": 23,
   "id": "7e23b324",
   "metadata": {},
   "outputs": [
    {
     "name": "stdout",
     "output_type": "stream",
     "text": [
      "ava\n",
      "ava\n",
      "ava\n",
      "ava\n",
      "emma\n",
      "emma\n",
      "emma\n"
     ]
    }
   ],
   "source": [
    "for x in range(4):\n",
    "  print('ava')\n",
    "for x in range(3):\n",
    "  print('emma')"
   ]
  },
  {
   "cell_type": "code",
   "execution_count": 24,
   "id": "aa8e9533",
   "metadata": {},
   "outputs": [
    {
     "name": "stdout",
     "output_type": "stream",
     "text": [
      "emma\n",
      "emma\n",
      "emma\n",
      "dad\n"
     ]
    }
   ],
   "source": [
    "for x in range(3):\n",
    "  print('emma')\n",
    "print('dad')"
   ]
  },
  {
   "cell_type": "code",
   "execution_count": null,
   "id": "56d61b3a",
   "metadata": {},
   "outputs": [],
   "source": []
  },
  {
   "cell_type": "code",
   "execution_count": null,
   "id": "864641a0",
   "metadata": {},
   "outputs": [],
   "source": [
    "for x in range(1):\n",
    "  print('emma')\n"
   ]
  }
 ],
 "metadata": {
  "kernelspec": {
   "display_name": "Python 3 (ipykernel)",
   "language": "python",
   "name": "python3"
  },
  "language_info": {
   "codemirror_mode": {
    "name": "ipython",
    "version": 3
   },
   "file_extension": ".py",
   "mimetype": "text/x-python",
   "name": "python",
   "nbconvert_exporter": "python",
   "pygments_lexer": "ipython3",
   "version": "3.10.2"
  }
 },
 "nbformat": 4,
 "nbformat_minor": 5
}
